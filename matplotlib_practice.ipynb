{
 "cells": [
  {
   "cell_type": "code",
   "execution_count": 1,
   "id": "e3acd9f4",
   "metadata": {},
   "outputs": [
    {
     "data": {
      "text/plain": [
       "'3.3.4'"
      ]
     },
     "execution_count": 1,
     "metadata": {},
     "output_type": "execute_result"
    }
   ],
   "source": [
    "import matplotlib\n",
    "matplotlib.__version__"
   ]
  },
  {
   "cell_type": "code",
   "execution_count": 2,
   "id": "c548ddf8",
   "metadata": {},
   "outputs": [],
   "source": [
    "%matplotlib inline"
   ]
  },
  {
   "cell_type": "code",
   "execution_count": 3,
   "id": "6655f6bc",
   "metadata": {},
   "outputs": [],
   "source": [
    "# Import dependencies.\n",
    "import matplotlib.pyplot as plt"
   ]
  },
  {
   "cell_type": "code",
   "execution_count": 4,
   "id": "7cc4bedc",
   "metadata": {},
   "outputs": [],
   "source": [
    "# Set the x-axis to a list of strings for each month.\n",
    "x_axis = [\"Jan\", \"Feb\", \"Mar\", \"April\", \"May\", \"June\", \"July\", \"Aug\", \"Sept\", \"Oct\", \"Nov\", \"Dec\"]\n",
    "\n",
    "# Set the y-axis to a list of floats as the total fare in US dollars accumulated for each month.\n",
    "y_axis = [10.02, 23.24, 39.20, 35.42, 32.34, 27.04, 43.82, 10.56, 11.85, 27.90, 20.71, 20.09]"
   ]
  },
  {
   "cell_type": "code",
   "execution_count": 5,
   "id": "ed46fd09",
   "metadata": {},
   "outputs": [
    {
     "data": {
      "text/plain": [
       "[<matplotlib.lines.Line2D at 0x24845a67648>]"
      ]
     },
     "execution_count": 5,
     "metadata": {},
     "output_type": "execute_result"
    },
    {
     "data": {
      "image/png": "[encoded data removed]",
      "text/plain": [
       "<Figure size 432x288 with 1 Axes>"
      ]
     },
     "metadata": {
      "needs_background": "light"
     },
     "output_type": "display_data"
    }
   ],
   "source": [
    "# Create the plot\n",
    "plt.plot(x_axis, y_axis)"
   ]
  },
  {
   "cell_type": "code",
   "execution_count": null,
   "id": "62ade58e",
   "metadata": {},
   "outputs": [],
   "source": [
    "# Create the plot with ax.plt()\n",
    "fig, ax = plt.subplots()\n",
    "ax.plot(x_axis, y_axis)"
   ]
  },
  {
   "cell_type": "code",
   "execution_count": null,
   "id": "370c10fc",
   "metadata": {},
   "outputs": [],
   "source": [
    "# Create the plot with ax.plt()\n",
    "fig = plt.figure()\n",
    "ax = fig.add_subplot()\n",
    "ax.plot(x_axis, y_axis)"
   ]
  },
  {
   "cell_type": "code",
   "execution_count": null,
   "id": "a5441c2d",
   "metadata": {},
   "outputs": [],
   "source": [
    "# Create the plot with ax.plt()\n",
    "ax = plt.axes()\n",
    "ax.plot(x_axis, y_axis)"
   ]
  },
  {
   "cell_type": "code",
   "execution_count": null,
   "id": "23e99e1c",
   "metadata": {},
   "outputs": [],
   "source": [
    "# Create the plot.\n",
    "plt.plot(x_axis, y_axis)"
   ]
  },
  {
   "cell_type": "code",
   "execution_count": null,
   "id": "90105edd",
   "metadata": {},
   "outputs": [],
   "source": [
    "# Create the plot and add a label for the legend.\n",
    "plt.plot(x_axis, y_axis, label='Boston')\n",
    "# Create labels for the x and y axes.\n",
    "plt.xlabel(\"Date\")\n",
    "plt.ylabel(\"Fare($)\")\n",
    "# Set the y limit between 0 and 45.\n",
    "plt.ylim(0, 45)\n",
    "# Create a title.\n",
    "plt.title(\"PyBer Fare by Month\")\n",
    "# Add the legend.\n",
    "plt.legend()"
   ]
  },
  {
   "cell_type": "code",
   "execution_count": null,
   "id": "f1403909",
   "metadata": {},
   "outputs": [],
   "source": [
    "# Create the plot.\n",
    "plt.plot(x_axis, y_axis, marker=\"*\", color=\"green\", linewidth=2, label='Boston')\n",
    "# Create labels for the x and y axes.\n",
    "plt.xlabel(\"Date\")\n",
    "plt.ylabel(\"Fare($)\")\n",
    "# Set the y limit between 0 and 45.\n",
    "plt.ylim(0, 45)\n",
    "# Create a title.\n",
    "plt.title(\"PyBer Fare by Month\")\n",
    "# Add a grid.\n",
    "plt.grid()\n",
    "# Add the legend.\n",
    "plt.legend()"
   ]
  },
  {
   "cell_type": "code",
   "execution_count": null,
   "id": "00b212a4",
   "metadata": {},
   "outputs": [],
   "source": [
    "# Create the plot with ax.plt()\n",
    "ax = plt.axes()\n",
    "ax.plot(x_axis, y_axis, marker=\"D\", color=\"green\", linewidth=2, label='Boston')\n",
    "ax.set_xlabel('Months')\n",
    "ax.set_ylabel('Nude Selfies')\n",
    "ax.grid()\n",
    "ax.legend()"
   ]
  },
  {
   "cell_type": "code",
   "execution_count": null,
   "id": "a29edba5",
   "metadata": {},
   "outputs": [],
   "source": [
    "# Set the x-axis to a list of strings for each month.\n",
    "x_axis = [\"Jan\", \"Feb\", \"Mar\", \"April\", \"May\", \"June\", \"July\", \"Aug\", \"Sept\", \"Oct\", \"Nov\", \"Dec\"]\n",
    "\n",
    "# Set the y-axis to a list of floats as the total fare in US dollars accumulated for each month.\n",
    "y_axis = [10.02, 23.24, 39.20, 35.42, 32.34, 27.04, 43.82, 10.56, 11.85, 27.90, 20.71, 20.09]"
   ]
  },
  {
   "cell_type": "code",
   "execution_count": null,
   "id": "98b7f020",
   "metadata": {},
   "outputs": [],
   "source": [
    "# Create the plot\n",
    "plt.bar(x_axis, y_axis)"
   ]
  },
  {
   "cell_type": "code",
   "execution_count": null,
   "id": "cdc91953",
   "metadata": {},
   "outputs": [],
   "source": [
    "# Create the plot.\n",
    "plt.bar(x_axis, y_axis, color=\"green\", label='Boston')\n",
    "# Create labels for the x and y axes.\n",
    "plt.xlabel(\"Date\")\n",
    "plt.ylabel(\"Fare($)\")\n",
    "# Create a title.\n",
    "plt.title(\"PyBer Fare by Month\")\n",
    "# Add the legend.\n",
    "plt.legend()"
   ]
  },
  {
   "cell_type": "code",
   "execution_count": null,
   "id": "80e8c4da",
   "metadata": {},
   "outputs": [],
   "source": [
    "# Create the plot\n",
    "plt.barh(x_axis, y_axis)"
   ]
  },
  {
   "cell_type": "code",
   "execution_count": null,
   "id": "f5ae41d7",
   "metadata": {},
   "outputs": [],
   "source": [
    "# Create the plot\n",
    "plt.barh(y_axis, x_axis)"
   ]
  },
  {
   "cell_type": "code",
   "execution_count": null,
   "id": "0f0d942b",
   "metadata": {},
   "outputs": [],
   "source": [
    "# Create the plot.\n",
    "plt.barh(x_axis, y_axis, color=\"magenta\", label=\"Boston\")\n",
    "plt.gca().invert_yaxis()\n",
    "plt.xlabel(\"Fare($)\")\n",
    "plt.ylabel(\"Date\")\n",
    "plt.legend()"
   ]
  },
  {
   "cell_type": "code",
   "execution_count": null,
   "id": "db7c5d07",
   "metadata": {},
   "outputs": [],
   "source": [
    "# Create the plot with ax.plt()\n",
    "fig, ax = plt.subplots()\n",
    "ax.bar(x_axis, y_axis)"
   ]
  },
  {
   "cell_type": "code",
   "execution_count": null,
   "id": "3cf47e07",
   "metadata": {},
   "outputs": [],
   "source": [
    "# Create the plot with ax.plt()\n",
    "fig, ax = plt.subplots()\n",
    "ax.barh(x_axis, y_axis, color='cyan', label='Chicago')\n",
    "ax.set_xlabel('fares')\n",
    "ax.set_ylabel('months')\n",
    "ax.set_title(\"Smelling Farts\")\n",
    "ax.invert_yaxis()\n",
    "ax.legend()\n"
   ]
  },
  {
   "cell_type": "code",
   "execution_count": null,
   "id": "6e7f3b48",
   "metadata": {},
   "outputs": [],
   "source": [
    "# Create the plot with ax.plt()\n",
    "fig, ax = plt.subplots()\n",
    "ax.barh(y_axis, x_axis)"
   ]
  },
  {
   "cell_type": "code",
   "execution_count": null,
   "id": "42d17f18",
   "metadata": {},
   "outputs": [],
   "source": [
    "plt.plot(x_axis, y_axis, 'o')"
   ]
  },
  {
   "cell_type": "code",
   "execution_count": null,
   "id": "0c9040a0",
   "metadata": {},
   "outputs": [],
   "source": [
    "plt.scatter(y_axis, x_axis, c=\"red\", label=\"Chicago\")\n",
    "plt.gca().invert_yaxis()\n",
    "plt.xlabel(\"Fare($)\")\n",
    "plt.ylabel(\"Date\")\n",
    "plt.legend()\n",
    "plt.title(\"Repetitve\")"
   ]
  },
  {
   "cell_type": "code",
   "execution_count": null,
   "id": "45db1b43",
   "metadata": {},
   "outputs": [],
   "source": [
    "plt.scatter(x_axis, y_axis, s=y_axis)"
   ]
  },
  {
   "cell_type": "code",
   "execution_count": null,
   "id": "38945f0d",
   "metadata": {},
   "outputs": [],
   "source": [
    "y_axis_larger = []\n",
    "for data in y_axis:\n",
    "  y_axis_larger.append(data*3)\n",
    "plt.scatter(x_axis, y_axis, s=y_axis_larger)\n"
   ]
  },
  {
   "cell_type": "code",
   "execution_count": null,
   "id": "b27ea67f",
   "metadata": {},
   "outputs": [],
   "source": [
    "plt.scatter(x_axis, y_axis, s = [i * 3 for i in y_axis])"
   ]
  },
  {
   "cell_type": "code",
   "execution_count": null,
   "id": "2e187ecb",
   "metadata": {},
   "outputs": [],
   "source": [
    "fig, ax = plt.subplots()\n",
    "ax.scatter(x_axis, y_axis)"
   ]
  },
  {
   "cell_type": "code",
   "execution_count": null,
   "id": "75bca627",
   "metadata": {},
   "outputs": [],
   "source": [
    "fig, ax = plt.subplots()\n",
    "ax.scatter(y_axis, x_axis, s = [i * 5 for i in y_axis], c=\"xkcd:sky blue\", alpha=.2, linewidth =2, label=\"Boston\",)\n",
    "ax.set_xlabel('boredom level')\n",
    "ax.set_ylabel('months')\n",
    "ax.legend()\n",
    "ax.set_title(\"Smelling Farts\")\n",
    "ax.invert_yaxis()\n",
    "ax.set_xlim(0, 100)"
   ]
  },
  {
   "cell_type": "code",
   "execution_count": null,
   "id": "edbb411b",
   "metadata": {},
   "outputs": [],
   "source": [
    "plt.pie(y_axis, labels=x_axis)\n",
    "\n",
    "explode_values = (0, 0, 0, 0, 0, 0, 0.2, 0, 0, 0, 0, 0)\n",
    "plt.pie(y_axis, explode=explode_values, labels=x_axis, autopct='%.1f%%')\n",
    "\n",
    "# Assign 12 colors, one for each month.\n",
    "colors = [\"slateblue\", \"magenta\", \"lightblue\", \"green\", \"yellowgreen\", \"greenyellow\", \"yellow\", \"orange\", \"gold\", \"indianred\", \"tomato\", \"mistyrose\"]\n",
    "explode_values = (0, 0, 0, 0, 0, 0, 0.2, 0, 0, 0, 0, 0)\n",
    "# Assign 12 colors, one for each month.\n",
    "colors = [\"slateblue\", \"magenta\", \"lightblue\", \"green\", \"yellowgreen\", \"greenyellow\", \"yellow\", \"orange\", \"gold\", \"indianred\", \"tomato\", \"mistyrose\"]\n",
    "explode_values = (0, 0, 0, 0, 0, 0, 0.2, 0, 0, 0, 0, 0)\n",
    "plt.pie(figsize=(8, 8))\n",
    "plt.pie(y_axis,\n",
    "    explode=explode_values,\n",
    "    colors=colors,\n",
    "    labels=x_axis,\n",
    "    autopct='%.1f%%')\n",
    "\n",
    "\n",
    "plt.show()\n",
    "\n",
    "\n"
   ]
  },
  {
   "cell_type": "code",
   "execution_count": 17,
   "id": "8bf8fb3d",
   "metadata": {},
   "outputs": [
    {
     "data": {
      "image/png": "[encoded data removed]",
      "text/plain": [
       "<Figure size 576x576 with 1 Axes>"
      ]
     },
     "metadata": {},
     "output_type": "display_data"
    }
   ],
   "source": [
    "\n",
    "# Assign 12 colors, one for each month.\n",
    "colors = [\"slateblue\", \"magenta\", \"lightblue\", \"green\", \"yellowgreen\", \"greenyellow\", \"yellow\", \"orange\", \"gold\", \"indianred\", \"tomato\", \"mistyrose\"]\n",
    "explode_values = (0, 0, .2, 0, 0, 0, 0.2, 0, 0, 0, 0, 0)\n",
    "fig, ax = plt.subplots()\n",
    "ax.pie(y_axis,labels=x_axis,explode=explode_values, colors=colors, autopct='%.1f%%', shadow=True, counterclock=False, startangle=98  )\n",
    "fig = plt.gcf()\n",
    "fig.set_size_inches(8,8)\n",
    "\n",
    "\n",
    "\n",
    "plt.show()\n",
    "\n"
   ]
  },
  {
   "cell_type": "code",
   "execution_count": null,
   "id": "a1dd14c2",
   "metadata": {
    "scrolled": true
   },
   "outputs": [],
   "source": [
    "\n",
    "ax.pie(y_axis,labels=x_axis, shadow=True, counterclock=False, startangle=93)\n",
    "\n",
    "\n",
    "plt.show()\n",
    "\n"
   ]
  },
  {
   "cell_type": "code",
   "execution_count": null,
   "id": "97923f08",
   "metadata": {},
   "outputs": [],
   "source": [
    "\n",
    "\n",
    "\n",
    "\n"
   ]
  },
  {
   "cell_type": "code",
   "execution_count": null,
   "id": "763c0500",
   "metadata": {},
   "outputs": [],
   "source": []
  },
  {
   "cell_type": "code",
   "execution_count": null,
   "id": "21fe619c",
   "metadata": {},
   "outputs": [],
   "source": [
    "\n"
   ]
  },
  {
   "cell_type": "code",
   "execution_count": null,
   "id": "00bea71a",
   "metadata": {},
   "outputs": [],
   "source": []
  }
 ],
 "metadata": {
  "kernelspec": {
   "display_name": "PythonData",
   "language": "python",
   "name": "pythondata"
  },
  "language_info": {
   "codemirror_mode": {
    "name": "ipython",
    "version": 3
   },
   "file_extension": ".py",
   "mimetype": "text/x-python",
   "name": "python",
   "nbconvert_exporter": "python",
   "pygments_lexer": "ipython3",
   "version": "3.7.10"
  }
 },
 "nbformat": 4,
 "nbformat_minor": 5
}
